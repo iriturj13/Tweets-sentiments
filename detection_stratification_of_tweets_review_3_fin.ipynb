{
  "metadata": {
    "kernelspec": {
      "language": "python",
      "display_name": "Python 3",
      "name": "python3"
    },
    "language_info": {
      "name": "python",
      "version": "3.7.10",
      "mimetype": "text/x-python",
      "codemirror_mode": {
        "name": "ipython",
        "version": 3
      },
      "pygments_lexer": "ipython3",
      "nbconvert_exporter": "python",
      "file_extension": ".py"
    },
    "colab": {
      "provenance": []
    }
  },
  "nbformat_minor": 0,
  "nbformat": 4,
  "cells": [
    {
      "cell_type": "code",
      "source": [
        "import numpy as np \n",
        "import pandas as pd \n",
        "\n",
        "import os\n",
        "for dirname, _, filenames in os.walk('/kaggle/input'):\n",
        "    for filename in filenames:\n",
        "        print(os.path.join(dirname, filename))"
      ],
      "metadata": {
        "_uuid": "8f2839f25d086af736a60e9eeb907d3b93b6e0e5",
        "_cell_guid": "b1076dfc-b9ad-4769-8c92-a6c4dae69d19",
        "execution": {
          "iopub.status.busy": "2022-07-27T15:12:41.931953Z",
          "iopub.execute_input": "2022-07-27T15:12:41.932337Z",
          "iopub.status.idle": "2022-07-27T15:12:41.952345Z",
          "shell.execute_reply.started": "2022-07-27T15:12:41.932257Z",
          "shell.execute_reply": "2022-07-27T15:12:41.951524Z"
        },
        "trusted": true,
        "id": "cXHZalb4Kvdd",
        "outputId": "4e870cca-b657-46f1-e0e0-f88b3416acbf"
      },
      "execution_count": null,
      "outputs": [
        {
          "name": "stdout",
          "text": "/kaggle/input/twitter-sentiment-analysis-hatred-speech/train.csv\n/kaggle/input/twitter-sentiment-analysis-hatred-speech/test.csv\n/kaggle/input/hate-speech-and-offensive-language-dataset/labeled_data.csv\n",
          "output_type": "stream"
        }
      ]
    },
    {
      "cell_type": "code",
      "source": [
        "df_twitter=pd.read_csv(\"/kaggle/input/twitter-sentiment-analysis-hatred-speech/train.csv\")"
      ],
      "metadata": {
        "execution": {
          "iopub.status.busy": "2022-07-27T15:12:41.970222Z",
          "iopub.execute_input": "2022-07-27T15:12:41.970481Z",
          "iopub.status.idle": "2022-07-27T15:12:42.050097Z",
          "shell.execute_reply.started": "2022-07-27T15:12:41.970456Z",
          "shell.execute_reply": "2022-07-27T15:12:42.049115Z"
        },
        "trusted": true,
        "id": "6mUUTB7bKvdg"
      },
      "execution_count": null,
      "outputs": []
    },
    {
      "cell_type": "code",
      "source": [
        "df_twitter.head()"
      ],
      "metadata": {
        "execution": {
          "iopub.status.busy": "2022-07-27T15:12:42.051682Z",
          "iopub.execute_input": "2022-07-27T15:12:42.052064Z",
          "iopub.status.idle": "2022-07-27T15:12:42.075117Z",
          "shell.execute_reply.started": "2022-07-27T15:12:42.052026Z",
          "shell.execute_reply": "2022-07-27T15:12:42.074149Z"
        },
        "trusted": true,
        "id": "oFPOtd2oKvdh",
        "outputId": "d0b58b9f-2058-4e7b-f931-481983863642"
      },
      "execution_count": null,
      "outputs": [
        {
          "execution_count": 3,
          "output_type": "execute_result",
          "data": {
            "text/plain": "   id  label                                              tweet\n0   1      0   @user when a father is dysfunctional and is s...\n1   2      0  @user @user thanks for #lyft credit i can't us...\n2   3      0                                bihday your majesty\n3   4      0  #model   i love u take with u all the time in ...\n4   5      0             factsguide: society now    #motivation",
            "text/html": "<div>\n<style scoped>\n    .dataframe tbody tr th:only-of-type {\n        vertical-align: middle;\n    }\n\n    .dataframe tbody tr th {\n        vertical-align: top;\n    }\n\n    .dataframe thead th {\n        text-align: right;\n    }\n</style>\n<table border=\"1\" class=\"dataframe\">\n  <thead>\n    <tr style=\"text-align: right;\">\n      <th></th>\n      <th>id</th>\n      <th>label</th>\n      <th>tweet</th>\n    </tr>\n  </thead>\n  <tbody>\n    <tr>\n      <th>0</th>\n      <td>1</td>\n      <td>0</td>\n      <td>@user when a father is dysfunctional and is s...</td>\n    </tr>\n    <tr>\n      <th>1</th>\n      <td>2</td>\n      <td>0</td>\n      <td>@user @user thanks for #lyft credit i can't us...</td>\n    </tr>\n    <tr>\n      <th>2</th>\n      <td>3</td>\n      <td>0</td>\n      <td>bihday your majesty</td>\n    </tr>\n    <tr>\n      <th>3</th>\n      <td>4</td>\n      <td>0</td>\n      <td>#model   i love u take with u all the time in ...</td>\n    </tr>\n    <tr>\n      <th>4</th>\n      <td>5</td>\n      <td>0</td>\n      <td>factsguide: society now    #motivation</td>\n    </tr>\n  </tbody>\n</table>\n</div>"
          },
          "metadata": {}
        }
      ]
    },
    {
      "cell_type": "code",
      "source": [
        "import seaborn as sns\n",
        "sns.countplot('label',data=df_twitter)"
      ],
      "metadata": {
        "execution": {
          "iopub.status.busy": "2022-07-27T15:12:42.076660Z",
          "iopub.execute_input": "2022-07-27T15:12:42.077155Z",
          "iopub.status.idle": "2022-07-27T15:12:42.868803Z",
          "shell.execute_reply.started": "2022-07-27T15:12:42.077117Z",
          "shell.execute_reply": "2022-07-27T15:12:42.867815Z"
        },
        "trusted": true,
        "id": "J87Vroz8Kvdh",
        "outputId": "6e5e64dc-c15a-4dfd-e67b-35c19d80d8b8"
      },
      "execution_count": null,
      "outputs": [
        {
          "name": "stderr",
          "text": "/opt/conda/lib/python3.7/site-packages/seaborn/_decorators.py:43: FutureWarning: Pass the following variable as a keyword arg: x. From version 0.12, the only valid positional argument will be `data`, and passing other arguments without an explicit keyword will result in an error or misinterpretation.\n  FutureWarning\n",
          "output_type": "stream"
        },
        {
          "execution_count": 4,
          "output_type": "execute_result",
          "data": {
            "text/plain": "<AxesSubplot:xlabel='label', ylabel='count'>"
          },
          "metadata": {}
        },
        {
          "output_type": "display_data",
          "data": {
            "text/plain": "<Figure size 432x288 with 1 Axes>",
            "image/png": "[encoded data removed]"
          },
          "metadata": {
            "needs_background": "light"
          }
        }
      ]
    },
    {
      "cell_type": "code",
      "source": [
        "df_twitter.shape"
      ],
      "metadata": {
        "execution": {
          "iopub.status.busy": "2022-07-27T15:12:42.870474Z",
          "iopub.execute_input": "2022-07-27T15:12:42.870829Z",
          "iopub.status.idle": "2022-07-27T15:12:42.876641Z",
          "shell.execute_reply.started": "2022-07-27T15:12:42.870789Z",
          "shell.execute_reply": "2022-07-27T15:12:42.875643Z"
        },
        "trusted": true,
        "id": "XlLACdr4Kvdi",
        "outputId": "cd89d194-ea77-437c-8a71-e8c25d467ec7"
      },
      "execution_count": null,
      "outputs": [
        {
          "execution_count": 5,
          "output_type": "execute_result",
          "data": {
            "text/plain": "(31962, 3)"
          },
          "metadata": {}
        }
      ]
    },
    {
      "cell_type": "code",
      "source": [
        "df_twitter.isnull().sum()"
      ],
      "metadata": {
        "execution": {
          "iopub.status.busy": "2022-07-27T15:12:42.878591Z",
          "iopub.execute_input": "2022-07-27T15:12:42.878943Z",
          "iopub.status.idle": "2022-07-27T15:12:42.893939Z",
          "shell.execute_reply.started": "2022-07-27T15:12:42.878907Z",
          "shell.execute_reply": "2022-07-27T15:12:42.893210Z"
        },
        "trusted": true,
        "id": "zb0Y-HXZKvdi",
        "outputId": "9a2f3360-0f25-4cbc-a736-5a87c5f9c7fe"
      },
      "execution_count": null,
      "outputs": [
        {
          "execution_count": 6,
          "output_type": "execute_result",
          "data": {
            "text/plain": "id       0\nlabel    0\ntweet    0\ndtype: int64"
          },
          "metadata": {}
        }
      ]
    },
    {
      "cell_type": "code",
      "source": [
        "df_twitter.drop('id',axis=1,inplace=True)"
      ],
      "metadata": {
        "execution": {
          "iopub.status.busy": "2022-07-27T15:12:42.895528Z",
          "iopub.execute_input": "2022-07-27T15:12:42.896149Z",
          "iopub.status.idle": "2022-07-27T15:12:42.903599Z",
          "shell.execute_reply.started": "2022-07-27T15:12:42.896111Z",
          "shell.execute_reply": "2022-07-27T15:12:42.902749Z"
        },
        "trusted": true,
        "id": "hNg8DSAmKvdj"
      },
      "execution_count": null,
      "outputs": []
    },
    {
      "cell_type": "code",
      "source": [
        "df_offensive=pd.read_csv(\"/kaggle/input/hate-speech-and-offensive-language-dataset/labeled_data.csv\")"
      ],
      "metadata": {
        "execution": {
          "iopub.status.busy": "2022-07-27T15:12:42.904960Z",
          "iopub.execute_input": "2022-07-27T15:12:42.905573Z",
          "iopub.status.idle": "2022-07-27T15:12:42.978929Z",
          "shell.execute_reply.started": "2022-07-27T15:12:42.905535Z",
          "shell.execute_reply": "2022-07-27T15:12:42.978039Z"
        },
        "trusted": true,
        "id": "MEGyww3EKvdj"
      },
      "execution_count": null,
      "outputs": []
    },
    {
      "cell_type": "code",
      "source": [
        "df_offensive.head()"
      ],
      "metadata": {
        "execution": {
          "iopub.status.busy": "2022-07-27T15:12:42.982073Z",
          "iopub.execute_input": "2022-07-27T15:12:42.982694Z",
          "iopub.status.idle": "2022-07-27T15:12:42.996606Z",
          "shell.execute_reply.started": "2022-07-27T15:12:42.982650Z",
          "shell.execute_reply": "2022-07-27T15:12:42.995763Z"
        },
        "trusted": true,
        "id": "T4gcEX3hKvdk",
        "outputId": "4aa86b24-d9ed-4274-90fc-8dbb91eebda2"
      },
      "execution_count": null,
      "outputs": [
        {
          "execution_count": 9,
          "output_type": "execute_result",
          "data": {
            "text/plain": "   Unnamed: 0  count  hate_speech  offensive_language  neither  class  \\\n0           0      3            0                   0        3      2   \n1           1      3            0                   3        0      1   \n2           2      3            0                   3        0      1   \n3           3      3            0                   2        1      1   \n4           4      6            0                   6        0      1   \n\n                                               tweet  \n0  !!! RT @mayasolovely: As a woman you shouldn't...  \n1  !!!!! RT @mleew17: boy dats cold...tyga dwn ba...  \n2  !!!!!!! RT @UrKindOfBrand Dawg!!!! RT @80sbaby...  \n3  !!!!!!!!! RT @C_G_Anderson: @viva_based she lo...  \n4  !!!!!!!!!!!!! RT @ShenikaRoberts: The shit you...  ",
            "text/html": "<div>\n<style scoped>\n    .dataframe tbody tr th:only-of-type {\n        vertical-align: middle;\n    }\n\n    .dataframe tbody tr th {\n        vertical-align: top;\n    }\n\n    .dataframe thead th {\n        text-align: right;\n    }\n</style>\n<table border=\"1\" class=\"dataframe\">\n  <thead>\n    <tr style=\"text-align: right;\">\n      <th></th>\n      <th>Unnamed: 0</th>\n      <th>count</th>\n      <th>hate_speech</th>\n      <th>offensive_language</th>\n      <th>neither</th>\n      <th>class</th>\n      <th>tweet</th>\n    </tr>\n  </thead>\n  <tbody>\n    <tr>\n      <th>0</th>\n      <td>0</td>\n      <td>3</td>\n      <td>0</td>\n      <td>0</td>\n      <td>3</td>\n      <td>2</td>\n      <td>!!! RT @mayasolovely: As a woman you shouldn't...</td>\n    </tr>\n    <tr>\n      <th>1</th>\n      <td>1</td>\n      <td>3</td>\n      <td>0</td>\n      <td>3</td>\n      <td>0</td>\n      <td>1</td>\n      <td>!!!!! RT @mleew17: boy dats cold...tyga dwn ba...</td>\n    </tr>\n    <tr>\n      <th>2</th>\n      <td>2</td>\n      <td>3</td>\n      <td>0</td>\n      <td>3</td>\n      <td>0</td>\n      <td>1</td>\n      <td>!!!!!!! RT @UrKindOfBrand Dawg!!!! RT @80sbaby...</td>\n    </tr>\n    <tr>\n      <th>3</th>\n      <td>3</td>\n      <td>3</td>\n      <td>0</td>\n      <td>2</td>\n      <td>1</td>\n      <td>1</td>\n      <td>!!!!!!!!! RT @C_G_Anderson: @viva_based she lo...</td>\n    </tr>\n    <tr>\n      <th>4</th>\n      <td>4</td>\n      <td>6</td>\n      <td>0</td>\n      <td>6</td>\n      <td>0</td>\n      <td>1</td>\n      <td>!!!!!!!!!!!!! RT @ShenikaRoberts: The shit you...</td>\n    </tr>\n  </tbody>\n</table>\n</div>"
          },
          "metadata": {}
        }
      ]
    },
    {
      "cell_type": "code",
      "source": [
        "df_offensive.shape"
      ],
      "metadata": {
        "execution": {
          "iopub.status.busy": "2022-07-27T15:12:42.999002Z",
          "iopub.execute_input": "2022-07-27T15:12:42.999387Z",
          "iopub.status.idle": "2022-07-27T15:12:43.007588Z",
          "shell.execute_reply.started": "2022-07-27T15:12:42.999357Z",
          "shell.execute_reply": "2022-07-27T15:12:43.006720Z"
        },
        "trusted": true,
        "id": "28HNyapGKvdk",
        "outputId": "a51352db-4340-43f3-fbce-e8ae87a63318"
      },
      "execution_count": null,
      "outputs": [
        {
          "execution_count": 10,
          "output_type": "execute_result",
          "data": {
            "text/plain": "(24783, 7)"
          },
          "metadata": {}
        }
      ]
    },
    {
      "cell_type": "code",
      "source": [
        "df_offensive.isnull().sum()"
      ],
      "metadata": {
        "execution": {
          "iopub.status.busy": "2022-07-27T15:12:43.010807Z",
          "iopub.execute_input": "2022-07-27T15:12:43.011050Z",
          "iopub.status.idle": "2022-07-27T15:12:43.021098Z",
          "shell.execute_reply.started": "2022-07-27T15:12:43.011026Z",
          "shell.execute_reply": "2022-07-27T15:12:43.020261Z"
        },
        "trusted": true,
        "id": "e2JVyBhoKvdl",
        "outputId": "7f8aa168-200a-4d19-a0c8-ce0fbfc638c8"
      },
      "execution_count": null,
      "outputs": [
        {
          "execution_count": 11,
          "output_type": "execute_result",
          "data": {
            "text/plain": "Unnamed: 0            0\ncount                 0\nhate_speech           0\noffensive_language    0\nneither               0\nclass                 0\ntweet                 0\ndtype: int64"
          },
          "metadata": {}
        }
      ]
    },
    {
      "cell_type": "code",
      "source": [
        "df_offensive.drop(['Unnamed: 0','count','hate_speech','offensive_language','neither'],axis=1,inplace=True)"
      ],
      "metadata": {
        "execution": {
          "iopub.status.busy": "2022-07-27T15:12:43.023222Z",
          "iopub.execute_input": "2022-07-27T15:12:43.023777Z",
          "iopub.status.idle": "2022-07-27T15:12:43.030824Z",
          "shell.execute_reply.started": "2022-07-27T15:12:43.023740Z",
          "shell.execute_reply": "2022-07-27T15:12:43.030026Z"
        },
        "trusted": true,
        "id": "ta7zVYPeKvdl"
      },
      "execution_count": null,
      "outputs": []
    },
    {
      "cell_type": "code",
      "source": [
        "df_offensive.head(10)"
      ],
      "metadata": {
        "execution": {
          "iopub.status.busy": "2022-07-27T15:12:43.032554Z",
          "iopub.execute_input": "2022-07-27T15:12:43.032793Z",
          "iopub.status.idle": "2022-07-27T15:12:43.049060Z",
          "shell.execute_reply.started": "2022-07-27T15:12:43.032770Z",
          "shell.execute_reply": "2022-07-27T15:12:43.048169Z"
        },
        "trusted": true,
        "id": "NgJYa9WdKvdl",
        "outputId": "ed7f8877-51d8-4a30-f5d7-9ad3ab607b84"
      },
      "execution_count": null,
      "outputs": [
        {
          "execution_count": 13,
          "output_type": "execute_result",
          "data": {
            "text/plain": "   class                                              tweet\n0      2  !!! RT @mayasolovely: As a woman you shouldn't...\n1      1  !!!!! RT @mleew17: boy dats cold...tyga dwn ba...\n2      1  !!!!!!! RT @UrKindOfBrand Dawg!!!! RT @80sbaby...\n3      1  !!!!!!!!! RT @C_G_Anderson: @viva_based she lo...\n4      1  !!!!!!!!!!!!! RT @ShenikaRoberts: The shit you...\n5      1  !!!!!!!!!!!!!!!!!!\"@T_Madison_x: The shit just...\n6      1  !!!!!!\"@__BrighterDays: I can not just sit up ...\n7      1  !!!!&#8220;@selfiequeenbri: cause I'm tired of...\n8      1  \" &amp; you might not get ya bitch back &amp; ...\n9      1  \" @rhythmixx_ :hobbies include: fighting Maria...",
            "text/html": "<div>\n<style scoped>\n    .dataframe tbody tr th:only-of-type {\n        vertical-align: middle;\n    }\n\n    .dataframe tbody tr th {\n        vertical-align: top;\n    }\n\n    .dataframe thead th {\n        text-align: right;\n    }\n</style>\n<table border=\"1\" class=\"dataframe\">\n  <thead>\n    <tr style=\"text-align: right;\">\n      <th></th>\n      <th>class</th>\n      <th>tweet</th>\n    </tr>\n  </thead>\n  <tbody>\n    <tr>\n      <th>0</th>\n      <td>2</td>\n      <td>!!! RT @mayasolovely: As a woman you shouldn't...</td>\n    </tr>\n    <tr>\n      <th>1</th>\n      <td>1</td>\n      <td>!!!!! RT @mleew17: boy dats cold...tyga dwn ba...</td>\n    </tr>\n    <tr>\n      <th>2</th>\n      <td>1</td>\n      <td>!!!!!!! RT @UrKindOfBrand Dawg!!!! RT @80sbaby...</td>\n    </tr>\n    <tr>\n      <th>3</th>\n      <td>1</td>\n      <td>!!!!!!!!! RT @C_G_Anderson: @viva_based she lo...</td>\n    </tr>\n    <tr>\n      <th>4</th>\n      <td>1</td>\n      <td>!!!!!!!!!!!!! RT @ShenikaRoberts: The shit you...</td>\n    </tr>\n    <tr>\n      <th>5</th>\n      <td>1</td>\n      <td>!!!!!!!!!!!!!!!!!!\"@T_Madison_x: The shit just...</td>\n    </tr>\n    <tr>\n      <th>6</th>\n      <td>1</td>\n      <td>!!!!!!\"@__BrighterDays: I can not just sit up ...</td>\n    </tr>\n    <tr>\n      <th>7</th>\n      <td>1</td>\n      <td>!!!!&amp;#8220;@selfiequeenbri: cause I'm tired of...</td>\n    </tr>\n    <tr>\n      <th>8</th>\n      <td>1</td>\n      <td>\" &amp;amp; you might not get ya bitch back &amp;amp; ...</td>\n    </tr>\n    <tr>\n      <th>9</th>\n      <td>1</td>\n      <td>\" @rhythmixx_ :hobbies include: fighting Maria...</td>\n    </tr>\n  </tbody>\n</table>\n</div>"
          },
          "metadata": {}
        }
      ]
    },
    {
      "cell_type": "code",
      "source": [
        "df_offensive['class'].unique()"
      ],
      "metadata": {
        "execution": {
          "iopub.status.busy": "2022-07-27T15:12:43.050299Z",
          "iopub.execute_input": "2022-07-27T15:12:43.050642Z",
          "iopub.status.idle": "2022-07-27T15:12:43.061043Z",
          "shell.execute_reply.started": "2022-07-27T15:12:43.050608Z",
          "shell.execute_reply": "2022-07-27T15:12:43.060137Z"
        },
        "trusted": true,
        "id": "4R3CpLtaKvdm",
        "outputId": "8ff50b44-47a7-463b-cdb3-12e32b6d3fb2"
      },
      "execution_count": null,
      "outputs": [
        {
          "execution_count": 14,
          "output_type": "execute_result",
          "data": {
            "text/plain": "array([2, 1, 0])"
          },
          "metadata": {}
        }
      ]
    },
    {
      "cell_type": "code",
      "source": [
        "sns.countplot('class',data=df_offensive)"
      ],
      "metadata": {
        "execution": {
          "iopub.status.busy": "2022-07-27T15:12:43.063795Z",
          "iopub.execute_input": "2022-07-27T15:12:43.064120Z",
          "iopub.status.idle": "2022-07-27T15:12:43.192609Z",
          "shell.execute_reply.started": "2022-07-27T15:12:43.064083Z",
          "shell.execute_reply": "2022-07-27T15:12:43.191709Z"
        },
        "trusted": true,
        "id": "wiRwpHH6Kvdm",
        "outputId": "5ff6c4a5-7be0-44f2-8e61-4223f9498db4"
      },
      "execution_count": null,
      "outputs": [
        {
          "name": "stderr",
          "text": "/opt/conda/lib/python3.7/site-packages/seaborn/_decorators.py:43: FutureWarning: Pass the following variable as a keyword arg: x. From version 0.12, the only valid positional argument will be `data`, and passing other arguments without an explicit keyword will result in an error or misinterpretation.\n  FutureWarning\n",
          "output_type": "stream"
        },
        {
          "execution_count": 15,
          "output_type": "execute_result",
          "data": {
            "text/plain": "<AxesSubplot:xlabel='class', ylabel='count'>"
          },
          "metadata": {}
        },
        {
          "output_type": "display_data",
          "data": {
            "text/plain": "<Figure size 432x288 with 1 Axes>",
            "image/png": "[encoded data removed]"
          },
          "metadata": {
            "needs_background": "light"
          }
        }
      ]
    },
    {
      "cell_type": "code",
      "source": [
        "df_offensive[df_offensive['class']==0]['class']=1"
      ],
      "metadata": {
        "execution": {
          "iopub.status.busy": "2022-07-27T15:12:43.193873Z",
          "iopub.execute_input": "2022-07-27T15:12:43.194218Z",
          "iopub.status.idle": "2022-07-27T15:12:43.213094Z",
          "shell.execute_reply.started": "2022-07-27T15:12:43.194163Z",
          "shell.execute_reply": "2022-07-27T15:12:43.212284Z"
        },
        "trusted": true,
        "id": "1UPaYJL7Kvdm",
        "outputId": "363d8e8b-7f55-4b54-af82-b32ef4033b37"
      },
      "execution_count": null,
      "outputs": [
        {
          "name": "stderr",
          "text": "/opt/conda/lib/python3.7/site-packages/ipykernel_launcher.py:1: SettingWithCopyWarning: \nA value is trying to be set on a copy of a slice from a DataFrame.\nTry using .loc[row_indexer,col_indexer] = value instead\n\nSee the caveats in the documentation: https://pandas.pydata.org/pandas-docs/stable/user_guide/indexing.html#returning-a-view-versus-a-copy\n  \"\"\"Entry point for launching an IPython kernel.\n",
          "output_type": "stream"
        }
      ]
    },
    {
      "cell_type": "code",
      "source": [
        "df_offensive.head(5)"
      ],
      "metadata": {
        "execution": {
          "iopub.status.busy": "2022-07-27T15:12:43.214343Z",
          "iopub.execute_input": "2022-07-27T15:12:43.214669Z",
          "iopub.status.idle": "2022-07-27T15:12:43.225318Z",
          "shell.execute_reply.started": "2022-07-27T15:12:43.214633Z",
          "shell.execute_reply": "2022-07-27T15:12:43.222816Z"
        },
        "trusted": true,
        "id": "3ZVNbf76Kvdn",
        "outputId": "b4bdfe45-d5ef-4ce4-f7cd-99827ba63366"
      },
      "execution_count": null,
      "outputs": [
        {
          "execution_count": 17,
          "output_type": "execute_result",
          "data": {
            "text/plain": "   class                                              tweet\n0      2  !!! RT @mayasolovely: As a woman you shouldn't...\n1      1  !!!!! RT @mleew17: boy dats cold...tyga dwn ba...\n2      1  !!!!!!! RT @UrKindOfBrand Dawg!!!! RT @80sbaby...\n3      1  !!!!!!!!! RT @C_G_Anderson: @viva_based she lo...\n4      1  !!!!!!!!!!!!! RT @ShenikaRoberts: The shit you...",
            "text/html": "<div>\n<style scoped>\n    .dataframe tbody tr th:only-of-type {\n        vertical-align: middle;\n    }\n\n    .dataframe tbody tr th {\n        vertical-align: top;\n    }\n\n    .dataframe thead th {\n        text-align: right;\n    }\n</style>\n<table border=\"1\" class=\"dataframe\">\n  <thead>\n    <tr style=\"text-align: right;\">\n      <th></th>\n      <th>class</th>\n      <th>tweet</th>\n    </tr>\n  </thead>\n  <tbody>\n    <tr>\n      <th>0</th>\n      <td>2</td>\n      <td>!!! RT @mayasolovely: As a woman you shouldn't...</td>\n    </tr>\n    <tr>\n      <th>1</th>\n      <td>1</td>\n      <td>!!!!! RT @mleew17: boy dats cold...tyga dwn ba...</td>\n    </tr>\n    <tr>\n      <th>2</th>\n      <td>1</td>\n      <td>!!!!!!! RT @UrKindOfBrand Dawg!!!! RT @80sbaby...</td>\n    </tr>\n    <tr>\n      <th>3</th>\n      <td>1</td>\n      <td>!!!!!!!!! RT @C_G_Anderson: @viva_based she lo...</td>\n    </tr>\n    <tr>\n      <th>4</th>\n      <td>1</td>\n      <td>!!!!!!!!!!!!! RT @ShenikaRoberts: The shit you...</td>\n    </tr>\n  </tbody>\n</table>\n</div>"
          },
          "metadata": {}
        }
      ]
    },
    {
      "cell_type": "code",
      "source": [
        "df_offensive['class'].unique()"
      ],
      "metadata": {
        "execution": {
          "iopub.status.busy": "2022-07-27T15:12:43.226942Z",
          "iopub.execute_input": "2022-07-27T15:12:43.227532Z",
          "iopub.status.idle": "2022-07-27T15:12:43.235060Z",
          "shell.execute_reply.started": "2022-07-27T15:12:43.227496Z",
          "shell.execute_reply": "2022-07-27T15:12:43.234088Z"
        },
        "trusted": true,
        "id": "vAQY8CMRKvdn",
        "outputId": "7415281a-0c4c-4993-f06f-13a04d795155"
      },
      "execution_count": null,
      "outputs": [
        {
          "execution_count": 18,
          "output_type": "execute_result",
          "data": {
            "text/plain": "array([2, 1, 0])"
          },
          "metadata": {}
        }
      ]
    },
    {
      "cell_type": "code",
      "source": [
        "df_offensive[df_offensive['class']==0]"
      ],
      "metadata": {
        "execution": {
          "iopub.status.busy": "2022-07-27T15:12:43.236268Z",
          "iopub.execute_input": "2022-07-27T15:12:43.236804Z",
          "iopub.status.idle": "2022-07-27T15:12:43.255084Z",
          "shell.execute_reply.started": "2022-07-27T15:12:43.236768Z",
          "shell.execute_reply": "2022-07-27T15:12:43.254307Z"
        },
        "trusted": true,
        "id": "CTBf0y75Kvdn",
        "outputId": "b39a55f2-8b40-4567-cd86-86bebf36f34b"
      },
      "execution_count": null,
      "outputs": [
        {
          "execution_count": 19,
          "output_type": "execute_result",
          "data": {
            "text/plain": "       class                                              tweet\n85         0  \"@Blackman38Tide: @WhaleLookyHere @HowdyDowdy1...\n89         0  \"@CB_Baby24: @white_thunduh alsarabsss\" hes a ...\n110        0  \"@DevilGrimz: @VigxRArts you're fucking gay, b...\n184        0  \"@MarkRoundtreeJr: LMFAOOOO I HATE BLACK PEOPL...\n202        0  \"@NoChillPaz: \"At least I'm not a nigger\" http...\n...      ...                                                ...\n24576      0                this guy is the biggest faggot omfg\n24685      0  which one of these names is more offensive kik...\n24751      0         you a pussy ass nigga and I know it nigga.\n24776      0                                 you're all niggers\n24777      0  you're such a retard i hope you get type 2 dia...\n\n[1430 rows x 2 columns]",
            "text/html": "<div>\n<style scoped>\n    .dataframe tbody tr th:only-of-type {\n        vertical-align: middle;\n    }\n\n    .dataframe tbody tr th {\n        vertical-align: top;\n    }\n\n    .dataframe thead th {\n        text-align: right;\n    }\n</style>\n<table border=\"1\" class=\"dataframe\">\n  <thead>\n    <tr style=\"text-align: right;\">\n      <th></th>\n      <th>class</th>\n      <th>tweet</th>\n    </tr>\n  </thead>\n  <tbody>\n    <tr>\n      <th>85</th>\n      <td>0</td>\n      <td>\"@Blackman38Tide: @WhaleLookyHere @HowdyDowdy1...</td>\n    </tr>\n    <tr>\n      <th>89</th>\n      <td>0</td>\n      <td>\"@CB_Baby24: @white_thunduh alsarabsss\" hes a ...</td>\n    </tr>\n    <tr>\n      <th>110</th>\n      <td>0</td>\n      <td>\"@DevilGrimz: @VigxRArts you're fucking gay, b...</td>\n    </tr>\n    <tr>\n      <th>184</th>\n      <td>0</td>\n      <td>\"@MarkRoundtreeJr: LMFAOOOO I HATE BLACK PEOPL...</td>\n    </tr>\n    <tr>\n      <th>202</th>\n      <td>0</td>\n      <td>\"@NoChillPaz: \"At least I'm not a nigger\" http...</td>\n    </tr>\n    <tr>\n      <th>...</th>\n      <td>...</td>\n      <td>...</td>\n    </tr>\n    <tr>\n      <th>24576</th>\n      <td>0</td>\n      <td>this guy is the biggest faggot omfg</td>\n    </tr>\n    <tr>\n      <th>24685</th>\n      <td>0</td>\n      <td>which one of these names is more offensive kik...</td>\n    </tr>\n    <tr>\n      <th>24751</th>\n      <td>0</td>\n      <td>you a pussy ass nigga and I know it nigga.</td>\n    </tr>\n    <tr>\n      <th>24776</th>\n      <td>0</td>\n      <td>you're all niggers</td>\n    </tr>\n    <tr>\n      <th>24777</th>\n      <td>0</td>\n      <td>you're such a retard i hope you get type 2 dia...</td>\n    </tr>\n  </tbody>\n</table>\n<p>1430 rows × 2 columns</p>\n</div>"
          },
          "metadata": {}
        }
      ]
    },
    {
      "cell_type": "code",
      "source": [
        "df_offensive[\"class\"].replace({0: 1}, inplace=True)"
      ],
      "metadata": {
        "execution": {
          "iopub.status.busy": "2022-07-27T15:12:43.256357Z",
          "iopub.execute_input": "2022-07-27T15:12:43.256880Z",
          "iopub.status.idle": "2022-07-27T15:12:43.261621Z",
          "shell.execute_reply.started": "2022-07-27T15:12:43.256845Z",
          "shell.execute_reply": "2022-07-27T15:12:43.260770Z"
        },
        "trusted": true,
        "id": "ArYN0hGwKvdn"
      },
      "execution_count": null,
      "outputs": []
    },
    {
      "cell_type": "code",
      "source": [
        "df_offensive['class'].unique()"
      ],
      "metadata": {
        "execution": {
          "iopub.status.busy": "2022-07-27T15:12:43.262921Z",
          "iopub.execute_input": "2022-07-27T15:12:43.263542Z",
          "iopub.status.idle": "2022-07-27T15:12:43.273894Z",
          "shell.execute_reply.started": "2022-07-27T15:12:43.263506Z",
          "shell.execute_reply": "2022-07-27T15:12:43.273074Z"
        },
        "trusted": true,
        "id": "7OaleuR_Kvdo",
        "outputId": "48f66e1f-945a-4ede-e6df-4528bc308c68"
      },
      "execution_count": null,
      "outputs": [
        {
          "execution_count": 21,
          "output_type": "execute_result",
          "data": {
            "text/plain": "array([2, 1])"
          },
          "metadata": {}
        }
      ]
    },
    {
      "cell_type": "code",
      "source": [
        "sns.countplot('class',data=df_offensive)"
      ],
      "metadata": {
        "execution": {
          "iopub.status.busy": "2022-07-27T15:12:43.277120Z",
          "iopub.execute_input": "2022-07-27T15:12:43.277464Z",
          "iopub.status.idle": "2022-07-27T15:12:43.390087Z",
          "shell.execute_reply.started": "2022-07-27T15:12:43.277438Z",
          "shell.execute_reply": "2022-07-27T15:12:43.388629Z"
        },
        "trusted": true,
        "id": "juZaISnMKvdo",
        "outputId": "36f86ce8-2ca0-4813-cdc1-622cb26b5a0d"
      },
      "execution_count": null,
      "outputs": [
        {
          "name": "stderr",
          "text": "/opt/conda/lib/python3.7/site-packages/seaborn/_decorators.py:43: FutureWarning: Pass the following variable as a keyword arg: x. From version 0.12, the only valid positional argument will be `data`, and passing other arguments without an explicit keyword will result in an error or misinterpretation.\n  FutureWarning\n",
          "output_type": "stream"
        },
        {
          "execution_count": 22,
          "output_type": "execute_result",
          "data": {
            "text/plain": "<AxesSubplot:xlabel='class', ylabel='count'>"
          },
          "metadata": {}
        },
        {
          "output_type": "display_data",
          "data": {
            "text/plain": "<Figure size 432x288 with 1 Axes>",
            "image/png": "[encoded data removed]"
          },
          "metadata": {
            "needs_background": "light"
          }
        }
      ]
    },
    {
      "cell_type": "code",
      "source": [
        "df_offensive[df_offensive['class']==0]"
      ],
      "metadata": {
        "execution": {
          "iopub.status.busy": "2022-07-27T15:12:43.391415Z",
          "iopub.execute_input": "2022-07-27T15:12:43.391761Z",
          "iopub.status.idle": "2022-07-27T15:12:43.401939Z",
          "shell.execute_reply.started": "2022-07-27T15:12:43.391722Z",
          "shell.execute_reply": "2022-07-27T15:12:43.401015Z"
        },
        "trusted": true,
        "id": "2C_R-S7BKvdo",
        "outputId": "f138ed57-a1fb-4e94-ff73-b45d48471532"
      },
      "execution_count": null,
      "outputs": [
        {
          "execution_count": 23,
          "output_type": "execute_result",
          "data": {
            "text/plain": "Empty DataFrame\nColumns: [class, tweet]\nIndex: []",
            "text/html": "<div>\n<style scoped>\n    .dataframe tbody tr th:only-of-type {\n        vertical-align: middle;\n    }\n\n    .dataframe tbody tr th {\n        vertical-align: top;\n    }\n\n    .dataframe thead th {\n        text-align: right;\n    }\n</style>\n<table border=\"1\" class=\"dataframe\">\n  <thead>\n    <tr style=\"text-align: right;\">\n      <th></th>\n      <th>class</th>\n      <th>tweet</th>\n    </tr>\n  </thead>\n  <tbody>\n  </tbody>\n</table>\n</div>"
          },
          "metadata": {}
        }
      ]
    },
    {
      "cell_type": "code",
      "source": [
        "df_offensive[\"class\"].replace({2: 0}, inplace=True)"
      ],
      "metadata": {
        "execution": {
          "iopub.status.busy": "2022-07-27T15:12:43.403320Z",
          "iopub.execute_input": "2022-07-27T15:12:43.403672Z",
          "iopub.status.idle": "2022-07-27T15:12:43.408988Z",
          "shell.execute_reply.started": "2022-07-27T15:12:43.403636Z",
          "shell.execute_reply": "2022-07-27T15:12:43.408184Z"
        },
        "trusted": true,
        "id": "iblNWzlPKvdp"
      },
      "execution_count": null,
      "outputs": []
    },
    {
      "cell_type": "code",
      "source": [
        "sns.countplot('class',data=df_offensive)"
      ],
      "metadata": {
        "execution": {
          "iopub.status.busy": "2022-07-27T15:12:43.410374Z",
          "iopub.execute_input": "2022-07-27T15:12:43.411039Z",
          "iopub.status.idle": "2022-07-27T15:12:43.525506Z",
          "shell.execute_reply.started": "2022-07-27T15:12:43.411001Z",
          "shell.execute_reply": "2022-07-27T15:12:43.524227Z"
        },
        "trusted": true,
        "id": "NX6mP1iUKvdp",
        "outputId": "75dcdab9-3db1-4134-82d9-8058751e22e2"
      },
      "execution_count": null,
      "outputs": [
        {
          "name": "stderr",
          "text": "/opt/conda/lib/python3.7/site-packages/seaborn/_decorators.py:43: FutureWarning: Pass the following variable as a keyword arg: x. From version 0.12, the only valid positional argument will be `data`, and passing other arguments without an explicit keyword will result in an error or misinterpretation.\n  FutureWarning\n",
          "output_type": "stream"
        },
        {
          "execution_count": 25,
          "output_type": "execute_result",
          "data": {
            "text/plain": "<AxesSubplot:xlabel='class', ylabel='count'>"
          },
          "metadata": {}
        },
        {
          "output_type": "display_data",
          "data": {
            "text/plain": "<Figure size 432x288 with 1 Axes>",
            "image/png": "[encoded data removed]"
          },
          "metadata": {
            "needs_background": "light"
          }
        }
      ]
    },
    {
      "cell_type": "code",
      "source": [
        "df_offensive.rename(columns ={'class':'label'}, inplace = True)\n",
        "   "
      ],
      "metadata": {
        "execution": {
          "iopub.status.busy": "2022-07-27T15:12:43.529207Z",
          "iopub.execute_input": "2022-07-27T15:12:43.529465Z",
          "iopub.status.idle": "2022-07-27T15:12:43.533887Z",
          "shell.execute_reply.started": "2022-07-27T15:12:43.529436Z",
          "shell.execute_reply": "2022-07-27T15:12:43.532805Z"
        },
        "trusted": true,
        "id": "QWop7i81Kvdp"
      },
      "execution_count": null,
      "outputs": []
    },
    {
      "cell_type": "code",
      "source": [
        "df_offensive.head()"
      ],
      "metadata": {
        "execution": {
          "iopub.status.busy": "2022-07-27T15:12:43.535805Z",
          "iopub.execute_input": "2022-07-27T15:12:43.536168Z",
          "iopub.status.idle": "2022-07-27T15:12:43.549399Z",
          "shell.execute_reply.started": "2022-07-27T15:12:43.536133Z",
          "shell.execute_reply": "2022-07-27T15:12:43.548590Z"
        },
        "trusted": true,
        "id": "TtrAO5xAKvdq",
        "outputId": "f234bd8a-1246-4e85-e464-8db9586b80b2"
      },
      "execution_count": null,
      "outputs": [
        {
          "execution_count": 27,
          "output_type": "execute_result",
          "data": {
            "text/plain": "   label                                              tweet\n0      0  !!! RT @mayasolovely: As a woman you shouldn't...\n1      1  !!!!! RT @mleew17: boy dats cold...tyga dwn ba...\n2      1  !!!!!!! RT @UrKindOfBrand Dawg!!!! RT @80sbaby...\n3      1  !!!!!!!!! RT @C_G_Anderson: @viva_based she lo...\n4      1  !!!!!!!!!!!!! RT @ShenikaRoberts: The shit you...",
            "text/html": "<div>\n<style scoped>\n    .dataframe tbody tr th:only-of-type {\n        vertical-align: middle;\n    }\n\n    .dataframe tbody tr th {\n        vertical-align: top;\n    }\n\n    .dataframe thead th {\n        text-align: right;\n    }\n</style>\n<table border=\"1\" class=\"dataframe\">\n  <thead>\n    <tr style=\"text-align: right;\">\n      <th></th>\n      <th>label</th>\n      <th>tweet</th>\n    </tr>\n  </thead>\n  <tbody>\n    <tr>\n      <th>0</th>\n      <td>0</td>\n      <td>!!! RT @mayasolovely: As a woman you shouldn't...</td>\n    </tr>\n    <tr>\n      <th>1</th>\n      <td>1</td>\n      <td>!!!!! RT @mleew17: boy dats cold...tyga dwn ba...</td>\n    </tr>\n    <tr>\n      <th>2</th>\n      <td>1</td>\n      <td>!!!!!!! RT @UrKindOfBrand Dawg!!!! RT @80sbaby...</td>\n    </tr>\n    <tr>\n      <th>3</th>\n      <td>1</td>\n      <td>!!!!!!!!! RT @C_G_Anderson: @viva_based she lo...</td>\n    </tr>\n    <tr>\n      <th>4</th>\n      <td>1</td>\n      <td>!!!!!!!!!!!!! RT @ShenikaRoberts: The shit you...</td>\n    </tr>\n  </tbody>\n</table>\n</div>"
          },
          "metadata": {}
        }
      ]
    },
    {
      "cell_type": "code",
      "source": [
        "df_offensive.iloc[0]['tweet']"
      ],
      "metadata": {
        "execution": {
          "iopub.status.busy": "2022-07-27T15:12:43.550770Z",
          "iopub.execute_input": "2022-07-27T15:12:43.551318Z",
          "iopub.status.idle": "2022-07-27T15:12:43.560632Z",
          "shell.execute_reply.started": "2022-07-27T15:12:43.551272Z",
          "shell.execute_reply": "2022-07-27T15:12:43.559741Z"
        },
        "trusted": true,
        "id": "MOpo8ObVKvdq",
        "outputId": "6104bc84-ddc6-4555-d845-65dc2df5cb57"
      },
      "execution_count": null,
      "outputs": [
        {
          "execution_count": 28,
          "output_type": "execute_result",
          "data": {
            "text/plain": "\"!!! RT @mayasolovely: As a woman you shouldn't complain about cleaning up your house. &amp; as a man you should always take the trash out...\""
          },
          "metadata": {}
        }
      ]
    },
    {
      "cell_type": "code",
      "source": [
        "df_offensive.iloc[5]['tweet']"
      ],
      "metadata": {
        "execution": {
          "iopub.status.busy": "2022-07-27T15:12:43.561957Z",
          "iopub.execute_input": "2022-07-27T15:12:43.562337Z",
          "iopub.status.idle": "2022-07-27T15:12:43.572137Z",
          "shell.execute_reply.started": "2022-07-27T15:12:43.562304Z",
          "shell.execute_reply": "2022-07-27T15:12:43.571186Z"
        },
        "trusted": true,
        "id": "GwxCBXr2Kvdq",
        "outputId": "4a2c9903-10e1-4d94-9b95-75b55b97990f"
      },
      "execution_count": null,
      "outputs": [
        {
          "execution_count": 29,
          "output_type": "execute_result",
          "data": {
            "text/plain": "'!!!!!!!!!!!!!!!!!!\"@T_Madison_x: The shit just blows me..claim you so faithful and down for somebody but still fucking with hoes! &#128514;&#128514;&#128514;\"'"
          },
          "metadata": {}
        }
      ]
    },
    {
      "cell_type": "code",
      "source": [
        "frame=[df_twitter,df_offensive]\n",
        "df = pd.concat(frame)"
      ],
      "metadata": {
        "execution": {
          "iopub.status.busy": "2022-07-27T15:12:43.573382Z",
          "iopub.execute_input": "2022-07-27T15:12:43.574017Z",
          "iopub.status.idle": "2022-07-27T15:12:43.583301Z",
          "shell.execute_reply.started": "2022-07-27T15:12:43.573979Z",
          "shell.execute_reply": "2022-07-27T15:12:43.582529Z"
        },
        "trusted": true,
        "id": "WbGohKvSKvdq"
      },
      "execution_count": null,
      "outputs": []
    },
    {
      "cell_type": "code",
      "source": [
        "df.head()"
      ],
      "metadata": {
        "execution": {
          "iopub.status.busy": "2022-07-27T15:12:43.584891Z",
          "iopub.execute_input": "2022-07-27T15:12:43.585507Z",
          "iopub.status.idle": "2022-07-27T15:12:43.598612Z",
          "shell.execute_reply.started": "2022-07-27T15:12:43.585471Z",
          "shell.execute_reply": "2022-07-27T15:12:43.597806Z"
        },
        "trusted": true,
        "id": "UwtF3BIoKvdr",
        "outputId": "dc78ab35-cd39-40e9-d593-41088b330e25"
      },
      "execution_count": null,
      "outputs": [
        {
          "execution_count": 31,
          "output_type": "execute_result",
          "data": {
            "text/plain": "   label                                              tweet\n0      0   @user when a father is dysfunctional and is s...\n1      0  @user @user thanks for #lyft credit i can't us...\n2      0                                bihday your majesty\n3      0  #model   i love u take with u all the time in ...\n4      0             factsguide: society now    #motivation",
            "text/html": "<div>\n<style scoped>\n    .dataframe tbody tr th:only-of-type {\n        vertical-align: middle;\n    }\n\n    .dataframe tbody tr th {\n        vertical-align: top;\n    }\n\n    .dataframe thead th {\n        text-align: right;\n    }\n</style>\n<table border=\"1\" class=\"dataframe\">\n  <thead>\n    <tr style=\"text-align: right;\">\n      <th></th>\n      <th>label</th>\n      <th>tweet</th>\n    </tr>\n  </thead>\n  <tbody>\n    <tr>\n      <th>0</th>\n      <td>0</td>\n      <td>@user when a father is dysfunctional and is s...</td>\n    </tr>\n    <tr>\n      <th>1</th>\n      <td>0</td>\n      <td>@user @user thanks for #lyft credit i can't us...</td>\n    </tr>\n    <tr>\n      <th>2</th>\n      <td>0</td>\n      <td>bihday your majesty</td>\n    </tr>\n    <tr>\n      <th>3</th>\n      <td>0</td>\n      <td>#model   i love u take with u all the time in ...</td>\n    </tr>\n    <tr>\n      <th>4</th>\n      <td>0</td>\n      <td>factsguide: society now    #motivation</td>\n    </tr>\n  </tbody>\n</table>\n</div>"
          },
          "metadata": {}
        }
      ]
    },
    {
      "cell_type": "code",
      "source": [
        "sns.countplot('label',data=df)"
      ],
      "metadata": {
        "execution": {
          "iopub.status.busy": "2022-07-27T15:12:43.601350Z",
          "iopub.execute_input": "2022-07-27T15:12:43.601592Z",
          "iopub.status.idle": "2022-07-27T15:12:43.718573Z",
          "shell.execute_reply.started": "2022-07-27T15:12:43.601569Z",
          "shell.execute_reply": "2022-07-27T15:12:43.717564Z"
        },
        "trusted": true,
        "id": "OuO5OW4pKvdr",
        "outputId": "3b3a30c7-9cdb-4867-acb9-1d3db59d9170"
      },
      "execution_count": null,
      "outputs": [
        {
          "name": "stderr",
          "text": "/opt/conda/lib/python3.7/site-packages/seaborn/_decorators.py:43: FutureWarning: Pass the following variable as a keyword arg: x. From version 0.12, the only valid positional argument will be `data`, and passing other arguments without an explicit keyword will result in an error or misinterpretation.\n  FutureWarning\n",
          "output_type": "stream"
        },
        {
          "execution_count": 32,
          "output_type": "execute_result",
          "data": {
            "text/plain": "<AxesSubplot:xlabel='label', ylabel='count'>"
          },
          "metadata": {}
        },
        {
          "output_type": "display_data",
          "data": {
            "text/plain": "<Figure size 432x288 with 1 Axes>",
            "image/png": "[encoded data removed]"
          },
          "metadata": {
            "needs_background": "light"
          }
        }
      ]
    },
    {
      "cell_type": "code",
      "source": [
        "df.shape"
      ],
      "metadata": {
        "execution": {
          "iopub.status.busy": "2022-07-27T15:12:43.719993Z",
          "iopub.execute_input": "2022-07-27T15:12:43.720361Z",
          "iopub.status.idle": "2022-07-27T15:12:43.725734Z",
          "shell.execute_reply.started": "2022-07-27T15:12:43.720323Z",
          "shell.execute_reply": "2022-07-27T15:12:43.724686Z"
        },
        "trusted": true,
        "id": "FCt5S0MlKvdr",
        "outputId": "a12986aa-2723-476e-9bf8-8980f3301be2"
      },
      "execution_count": null,
      "outputs": [
        {
          "execution_count": 33,
          "output_type": "execute_result",
          "data": {
            "text/plain": "(56745, 2)"
          },
          "metadata": {}
        }
      ]
    },
    {
      "cell_type": "code",
      "source": [
        "import re\n",
        "import nltk\n",
        "stemmer = nltk.SnowballStemmer(\"english\")\n",
        "from nltk.corpus import stopwords\n",
        "import string\n",
        "stopword=set(stopwords.words('english'))\n"
      ],
      "metadata": {
        "execution": {
          "iopub.status.busy": "2022-07-27T15:12:43.727146Z",
          "iopub.execute_input": "2022-07-27T15:12:43.727721Z",
          "iopub.status.idle": "2022-07-27T15:12:44.462653Z",
          "shell.execute_reply.started": "2022-07-27T15:12:43.727682Z",
          "shell.execute_reply": "2022-07-27T15:12:44.461818Z"
        },
        "trusted": true,
        "id": "HLzKMrq2Kvdr"
      },
      "execution_count": null,
      "outputs": []
    },
    {
      "cell_type": "code",
      "source": [
        "def clean_text(text):\n",
        "    text = str(text).lower()\n",
        "    text = re.sub('\\[.*?\\]', '', text)\n",
        "    text = re.sub('https?://\\S+|www\\.\\S+', '', text)\n",
        "    text = re.sub('<.*?>+', '', text)\n",
        "    text = re.sub('[%s]' % re.escape(string.punctuation), '', text)\n",
        "    text = re.sub('\\n', '', text)\n",
        "    text = re.sub('\\w*\\d\\w*', '', text)\n",
        "    text = [word for word in text.split(' ') if word not in stopword]\n",
        "    text=\" \".join(text)\n",
        "    text = [stemmer.stem(word) for word in text.split(' ')]\n",
        "    text=\" \".join(text)\n",
        "    return text"
      ],
      "metadata": {
        "execution": {
          "iopub.status.busy": "2022-07-27T15:12:44.465096Z",
          "iopub.execute_input": "2022-07-27T15:12:44.465667Z",
          "iopub.status.idle": "2022-07-27T15:12:44.472832Z",
          "shell.execute_reply.started": "2022-07-27T15:12:44.465627Z",
          "shell.execute_reply": "2022-07-27T15:12:44.471994Z"
        },
        "trusted": true,
        "id": "lYJJa6FEKvdr"
      },
      "execution_count": null,
      "outputs": []
    },
    {
      "cell_type": "code",
      "source": [
        "type(df['tweet'])"
      ],
      "metadata": {
        "execution": {
          "iopub.status.busy": "2022-07-27T15:12:44.473818Z",
          "iopub.execute_input": "2022-07-27T15:12:44.474065Z",
          "iopub.status.idle": "2022-07-27T15:12:44.488655Z",
          "shell.execute_reply.started": "2022-07-27T15:12:44.474041Z",
          "shell.execute_reply": "2022-07-27T15:12:44.487871Z"
        },
        "trusted": true,
        "id": "rqbTYBK7Kvds",
        "outputId": "5eb40e61-d267-4497-88fd-90f4324c40cf"
      },
      "execution_count": null,
      "outputs": [
        {
          "execution_count": 36,
          "output_type": "execute_result",
          "data": {
            "text/plain": "pandas.core.series.Series"
          },
          "metadata": {}
        }
      ]
    },
    {
      "cell_type": "code",
      "source": [
        "df['tweet']=df['tweet'].apply(clean_text)"
      ],
      "metadata": {
        "execution": {
          "iopub.status.busy": "2022-07-27T15:12:44.490179Z",
          "iopub.execute_input": "2022-07-27T15:12:44.490672Z",
          "iopub.status.idle": "2022-07-27T15:12:54.105360Z",
          "shell.execute_reply.started": "2022-07-27T15:12:44.490629Z",
          "shell.execute_reply": "2022-07-27T15:12:54.104443Z"
        },
        "trusted": true,
        "id": "qaTS5Fk5Kvds"
      },
      "execution_count": null,
      "outputs": []
    },
    {
      "cell_type": "code",
      "source": [
        "df.head()"
      ],
      "metadata": {
        "execution": {
          "iopub.status.busy": "2022-07-27T15:12:54.108503Z",
          "iopub.execute_input": "2022-07-27T15:12:54.108767Z",
          "iopub.status.idle": "2022-07-27T15:12:54.120143Z",
          "shell.execute_reply.started": "2022-07-27T15:12:54.108739Z",
          "shell.execute_reply": "2022-07-27T15:12:54.119128Z"
        },
        "trusted": true,
        "id": "ffqkZgBUKvds",
        "outputId": "0e9bfa10-3fc8-496a-cd8a-fbbe7869afe9"
      },
      "execution_count": null,
      "outputs": [
        {
          "execution_count": 38,
          "output_type": "execute_result",
          "data": {
            "text/plain": "   label                                              tweet\n0      0   user father dysfunct selfish drag kid dysfunc...\n1      0  user user thank lyft credit cant use caus dont...\n2      0                                     bihday majesti\n3      0  model   love u take u time urð± ððð...\n4      0                         factsguid societi    motiv",
            "text/html": "<div>\n<style scoped>\n    .dataframe tbody tr th:only-of-type {\n        vertical-align: middle;\n    }\n\n    .dataframe tbody tr th {\n        vertical-align: top;\n    }\n\n    .dataframe thead th {\n        text-align: right;\n    }\n</style>\n<table border=\"1\" class=\"dataframe\">\n  <thead>\n    <tr style=\"text-align: right;\">\n      <th></th>\n      <th>label</th>\n      <th>tweet</th>\n    </tr>\n  </thead>\n  <tbody>\n    <tr>\n      <th>0</th>\n      <td>0</td>\n      <td>user father dysfunct selfish drag kid dysfunc...</td>\n    </tr>\n    <tr>\n      <th>1</th>\n      <td>0</td>\n      <td>user user thank lyft credit cant use caus dont...</td>\n    </tr>\n    <tr>\n      <th>2</th>\n      <td>0</td>\n      <td>bihday majesti</td>\n    </tr>\n    <tr>\n      <th>3</th>\n      <td>0</td>\n      <td>model   love u take u time urð± ððð...</td>\n    </tr>\n    <tr>\n      <th>4</th>\n      <td>0</td>\n      <td>factsguid societi    motiv</td>\n    </tr>\n  </tbody>\n</table>\n</div>"
          },
          "metadata": {}
        }
      ]
    },
    {
      "cell_type": "code",
      "source": [
        "x=df['tweet']\n",
        "y=df['label']"
      ],
      "metadata": {
        "execution": {
          "iopub.status.busy": "2022-07-27T15:12:54.182054Z",
          "iopub.execute_input": "2022-07-27T15:12:54.182611Z",
          "iopub.status.idle": "2022-07-27T15:12:54.189590Z",
          "shell.execute_reply.started": "2022-07-27T15:12:54.182574Z",
          "shell.execute_reply": "2022-07-27T15:12:54.188686Z"
        },
        "trusted": true,
        "id": "_zaxxkusKvdt"
      },
      "execution_count": null,
      "outputs": []
    },
    {
      "cell_type": "code",
      "source": [
        "from sklearn.model_selection import train_test_split\n",
        "\n",
        "x_train, x_test, y_train, y_test = train_test_split(x, y, random_state=42)\n",
        "print(len(x_train), len(y_train))\n",
        "print(len(x_test), len(y_test))"
      ],
      "metadata": {
        "execution": {
          "iopub.status.busy": "2022-07-27T15:12:54.190764Z",
          "iopub.execute_input": "2022-07-27T15:12:54.191302Z",
          "iopub.status.idle": "2022-07-27T15:12:54.210748Z",
          "shell.execute_reply.started": "2022-07-27T15:12:54.191231Z",
          "shell.execute_reply": "2022-07-27T15:12:54.209977Z"
        },
        "trusted": true,
        "id": "2bRh_DSBKvdt",
        "outputId": "7798a941-d94f-4f7a-e3df-5613f4b76e6d"
      },
      "execution_count": null,
      "outputs": [
        {
          "name": "stdout",
          "text": "42558 42558\n14187 14187\n",
          "output_type": "stream"
        }
      ]
    },
    {
      "cell_type": "code",
      "source": [
        "from sklearn.feature_extraction.text import CountVectorizer\n",
        "\n",
        "count = CountVectorizer(stop_words='english', ngram_range=(1,5))\n",
        "x_train_vectorizer=count.fit_transform(x_train)"
      ],
      "metadata": {
        "execution": {
          "iopub.status.busy": "2022-07-27T15:12:54.211818Z",
          "iopub.execute_input": "2022-07-27T15:12:54.212138Z",
          "iopub.status.idle": "2022-07-27T15:12:58.831787Z",
          "shell.execute_reply.started": "2022-07-27T15:12:54.212113Z",
          "shell.execute_reply": "2022-07-27T15:12:58.830659Z"
        },
        "trusted": true,
        "id": "r55tXHfsKvdt"
      },
      "execution_count": null,
      "outputs": []
    },
    {
      "cell_type": "code",
      "source": [
        "x_test_vectorizer=count.transform(x_test)\n",
        "x_train_vectorizer.toarray()\n"
      ],
      "metadata": {
        "execution": {
          "iopub.status.busy": "2022-07-27T15:12:58.833129Z",
          "iopub.execute_input": "2022-07-27T15:12:58.833504Z",
          "iopub.status.idle": "2022-07-27T15:13:00.308951Z",
          "shell.execute_reply.started": "2022-07-27T15:12:58.833463Z",
          "shell.execute_reply": "2022-07-27T15:13:00.308111Z"
        },
        "trusted": true,
        "id": "uwQYlzBrKvdt",
        "outputId": "77d693d9-75aa-4089-c15f-53e997324ee0"
      },
      "execution_count": null,
      "outputs": [
        {
          "execution_count": 45,
          "output_type": "execute_result",
          "data": {
            "text/plain": "array([[0, 0, 0, ..., 0, 0, 0],\n       [0, 0, 0, ..., 0, 0, 0],\n       [0, 0, 0, ..., 0, 0, 0],\n       ...,\n       [0, 0, 0, ..., 0, 0, 0],\n       [0, 0, 0, ..., 0, 0, 0],\n       [0, 0, 0, ..., 0, 0, 0]])"
          },
          "metadata": {}
        }
      ]
    },
    {
      "cell_type": "code",
      "source": [
        "count.vocabulary_\n"
      ],
      "metadata": {
        "execution": {
          "iopub.status.busy": "2022-07-27T15:13:00.310281Z",
          "iopub.execute_input": "2022-07-27T15:13:00.310613Z",
          "iopub.status.idle": "2022-07-27T15:13:00.347181Z",
          "shell.execute_reply.started": "2022-07-27T15:13:00.310576Z",
          "shell.execute_reply": "2022-07-27T15:13:00.346290Z"
        },
        "trusted": true,
        "id": "Tjpr0emtKvdu"
      },
      "execution_count": null,
      "outputs": []
    },
    {
      "cell_type": "code",
      "source": [
        "from sklearn.feature_extraction.text import TfidfTransformer\n",
        "tfidf = TfidfTransformer()\n",
        "\n",
        "x_train_tfidf = tfidf.fit_transform(x_train_vectorizer)\n",
        "\n",
        "x_train_tfidf.toarray()\n",
        "x_test_tfidf = tfidf.transform(x_test_vectorizer)\n"
      ],
      "metadata": {
        "execution": {
          "iopub.status.busy": "2022-07-27T15:13:00.348568Z",
          "iopub.execute_input": "2022-07-27T15:13:00.348915Z",
          "iopub.status.idle": "2022-07-27T15:13:02.636205Z",
          "shell.execute_reply.started": "2022-07-27T15:13:00.348879Z",
          "shell.execute_reply": "2022-07-27T15:13:02.635362Z"
        },
        "trusted": true,
        "id": "V8CqmfYnKvdu"
      },
      "execution_count": null,
      "outputs": []
    },
    {
      "cell_type": "code",
      "source": [
        "from sklearn.metrics import confusion_matrix"
      ],
      "metadata": {
        "execution": {
          "iopub.status.busy": "2022-07-27T15:13:02.638061Z",
          "iopub.execute_input": "2022-07-27T15:13:02.638580Z",
          "iopub.status.idle": "2022-07-27T15:13:02.642337Z",
          "shell.execute_reply.started": "2022-07-27T15:13:02.638542Z",
          "shell.execute_reply": "2022-07-27T15:13:02.641454Z"
        },
        "trusted": true,
        "id": "mSwlL9zRKvdv"
      },
      "execution_count": null,
      "outputs": []
    },
    {
      "cell_type": "code",
      "source": [
        "from keras.models import Model\n",
        "from keras.layers import LSTM, Dense, Dropout, Embedding, SpatialDropout1D\n",
        "from keras.optimizers import RMSprop\n",
        "from keras.preprocessing.text import Tokenizer\n",
        "from keras.preprocessing import sequence\n",
        "from keras.utils import to_categorical\n",
        "from keras.callbacks import EarlyStopping\n",
        "from keras.models import Sequential\n"
      ],
      "metadata": {
        "execution": {
          "iopub.status.busy": "2022-07-27T15:13:02.643676Z",
          "iopub.execute_input": "2022-07-27T15:13:02.644263Z",
          "iopub.status.idle": "2022-07-27T15:13:07.720827Z",
          "shell.execute_reply.started": "2022-07-27T15:13:02.644223Z",
          "shell.execute_reply": "2022-07-27T15:13:07.719965Z"
        },
        "trusted": true,
        "id": "PLApLpfkKvdv"
      },
      "execution_count": null,
      "outputs": []
    },
    {
      "cell_type": "code",
      "source": [
        "max_words = 50000\n",
        "max_len = 300\n",
        "tokenizer = Tokenizer(num_words=max_words)\n",
        "tokenizer.fit_on_texts(x_train)\n",
        "sequences = tokenizer.texts_to_sequences(x_train)\n",
        "sequences_matrix = sequence.pad_sequences(sequences,maxlen=max_len)"
      ],
      "metadata": {
        "execution": {
          "iopub.status.busy": "2022-07-27T15:13:07.722026Z",
          "iopub.execute_input": "2022-07-27T15:13:07.722385Z",
          "iopub.status.idle": "2022-07-27T15:13:09.491401Z",
          "shell.execute_reply.started": "2022-07-27T15:13:07.722349Z",
          "shell.execute_reply": "2022-07-27T15:13:09.490417Z"
        },
        "trusted": true,
        "id": "7PAgwri5Kvdv"
      },
      "execution_count": null,
      "outputs": []
    },
    {
      "cell_type": "code",
      "source": [
        "model = Sequential()\n",
        "model.add(Embedding(max_words, 100, input_length=max_len))\n",
        "model.add(SpatialDropout1D(0.2))\n",
        "model.add(LSTM(100, dropout=0.2, recurrent_dropout=0.2))\n",
        "model.add(Dense(1, activation='sigmoid'))\n",
        "model.summary()\n",
        "model.compile(loss='binary_crossentropy',optimizer=RMSprop(),metrics=['accuracy'])"
      ],
      "metadata": {
        "execution": {
          "iopub.status.busy": "2022-07-27T15:13:09.492743Z",
          "iopub.execute_input": "2022-07-27T15:13:09.493111Z",
          "iopub.status.idle": "2022-07-27T15:13:12.091925Z",
          "shell.execute_reply.started": "2022-07-27T15:13:09.493058Z",
          "shell.execute_reply": "2022-07-27T15:13:12.091052Z"
        },
        "trusted": true,
        "id": "cGaOtTG5Kvdv",
        "outputId": "5cfa9a48-e583-4d48-c500-5b5eedc42738"
      },
      "execution_count": null,
      "outputs": [
        {
          "name": "stdout",
          "text": "Model: \"sequential\"\n_________________________________________________________________\nLayer (type)                 Output Shape              Param #   \n=================================================================\nembedding (Embedding)        (None, 300, 100)          5000000   \n_________________________________________________________________\nspatial_dropout1d (SpatialDr (None, 300, 100)          0         \n_________________________________________________________________\nlstm (LSTM)                  (None, 100)               80400     \n_________________________________________________________________\ndense (Dense)                (None, 1)                 101       \n=================================================================\nTotal params: 5,080,501\nTrainable params: 5,080,501\nNon-trainable params: 0\n_________________________________________________________________\n",
          "output_type": "stream"
        }
      ]
    },
    {
      "cell_type": "code",
      "source": [
        "from keras.callbacks import EarlyStopping,ModelCheckpoint\n",
        "\n",
        "stop = EarlyStopping(\n",
        "    monitor='val_accuracy', \n",
        "    mode='max',\n",
        "    patience=5\n",
        ")\n",
        "\n",
        "checkpoint= ModelCheckpoint(\n",
        "    filepath='./',\n",
        "    save_weights_only=True,\n",
        "    monitor='val_accuracy',\n",
        "    mode='max',\n",
        "    save_best_only=True)"
      ],
      "metadata": {
        "execution": {
          "iopub.status.busy": "2022-07-27T15:13:12.093246Z",
          "iopub.execute_input": "2022-07-27T15:13:12.093598Z",
          "iopub.status.idle": "2022-07-27T15:13:12.098872Z",
          "shell.execute_reply.started": "2022-07-27T15:13:12.093561Z",
          "shell.execute_reply": "2022-07-27T15:13:12.098052Z"
        },
        "trusted": true,
        "id": "c__ILKQ6Kvdw"
      },
      "execution_count": null,
      "outputs": []
    },
    {
      "cell_type": "code",
      "source": [
        "history=model.fit(sequences_matrix,y_train,batch_size=1024,epochs=10,\n",
        "          validation_split=0.2,callbacks=[stop,checkpoint])"
      ],
      "metadata": {
        "execution": {
          "iopub.status.busy": "2022-07-27T15:13:12.100032Z",
          "iopub.execute_input": "2022-07-27T15:13:12.100559Z",
          "iopub.status.idle": "2022-07-27T15:20:12.411445Z",
          "shell.execute_reply.started": "2022-07-27T15:13:12.100520Z",
          "shell.execute_reply": "2022-07-27T15:20:12.410591Z"
        },
        "trusted": true,
        "id": "Hkj-5eVFKvdw",
        "outputId": "05f67186-87fb-44b4-8393-30d69402b674"
      },
      "execution_count": null,
      "outputs": [
        {
          "name": "stdout",
          "text": "Epoch 1/10\n34/34 [==============================] - 47s 1s/step - loss: 0.6079 - accuracy: 0.6753 - val_loss: 0.3049 - val_accuracy: 0.9102\nEpoch 2/10\n34/34 [==============================] - 42s 1s/step - loss: 0.2573 - accuracy: 0.9167 - val_loss: 0.1953 - val_accuracy: 0.9333\nEpoch 3/10\n34/34 [==============================] - 42s 1s/step - loss: 0.1505 - accuracy: 0.9480 - val_loss: 0.1654 - val_accuracy: 0.9379\nEpoch 4/10\n34/34 [==============================] - 42s 1s/step - loss: 0.1089 - accuracy: 0.9637 - val_loss: 0.1546 - val_accuracy: 0.9436\nEpoch 5/10\n34/34 [==============================] - 41s 1s/step - loss: 0.0872 - accuracy: 0.9705 - val_loss: 0.1551 - val_accuracy: 0.9441\nEpoch 6/10\n34/34 [==============================] - 41s 1s/step - loss: 0.0768 - accuracy: 0.9744 - val_loss: 0.1709 - val_accuracy: 0.9454\nEpoch 7/10\n34/34 [==============================] - 42s 1s/step - loss: 0.0660 - accuracy: 0.9784 - val_loss: 0.1664 - val_accuracy: 0.9415\nEpoch 8/10\n34/34 [==============================] - 41s 1s/step - loss: 0.0567 - accuracy: 0.9816 - val_loss: 0.1749 - val_accuracy: 0.9411\nEpoch 9/10\n34/34 [==============================] - 41s 1s/step - loss: 0.0489 - accuracy: 0.9857 - val_loss: 0.1923 - val_accuracy: 0.9380\nEpoch 10/10\n34/34 [==============================] - 42s 1s/step - loss: 0.0396 - accuracy: 0.9875 - val_loss: 0.2641 - val_accuracy: 0.9039\n",
          "output_type": "stream"
        }
      ]
    },
    {
      "cell_type": "code",
      "source": [
        "test_sequences = tokenizer.texts_to_sequences(x_test)\n",
        "test_sequences_matrix = sequence.pad_sequences(test_sequences,maxlen=max_len)"
      ],
      "metadata": {
        "execution": {
          "iopub.status.busy": "2022-07-27T15:20:12.412907Z",
          "iopub.execute_input": "2022-07-27T15:20:12.413276Z",
          "iopub.status.idle": "2022-07-27T15:20:12.711800Z",
          "shell.execute_reply.started": "2022-07-27T15:20:12.413236Z",
          "shell.execute_reply": "2022-07-27T15:20:12.710945Z"
        },
        "trusted": true,
        "id": "iud9lGpoKvdw"
      },
      "execution_count": null,
      "outputs": []
    },
    {
      "cell_type": "code",
      "source": [
        "accr = model.evaluate(test_sequences_matrix,y_test)"
      ],
      "metadata": {
        "execution": {
          "iopub.status.busy": "2022-07-27T15:20:12.713073Z",
          "iopub.execute_input": "2022-07-27T15:20:12.713433Z",
          "iopub.status.idle": "2022-07-27T15:20:43.471701Z",
          "shell.execute_reply.started": "2022-07-27T15:20:12.713396Z",
          "shell.execute_reply": "2022-07-27T15:20:43.470905Z"
        },
        "trusted": true,
        "id": "821R39ngKvdw",
        "outputId": "d1ebb0ea-0f47-49fd-c6a0-a4f566413225"
      },
      "execution_count": null,
      "outputs": [
        {
          "name": "stdout",
          "text": "444/444 [==============================] - 31s 69ms/step - loss: 0.2771 - accuracy: 0.9033\n",
          "output_type": "stream"
        }
      ]
    },
    {
      "cell_type": "code",
      "source": [
        "lstm_prediction=model.predict(test_sequences_matrix)\n"
      ],
      "metadata": {
        "execution": {
          "iopub.status.busy": "2022-07-27T15:20:43.473032Z",
          "iopub.execute_input": "2022-07-27T15:20:43.473405Z",
          "iopub.status.idle": "2022-07-27T15:21:12.891991Z",
          "shell.execute_reply.started": "2022-07-27T15:20:43.473368Z",
          "shell.execute_reply": "2022-07-27T15:21:12.891046Z"
        },
        "trusted": true,
        "id": "n4snv5pHKvdw"
      },
      "execution_count": null,
      "outputs": []
    },
    {
      "cell_type": "code",
      "source": [
        "res=[]\n",
        "for prediction in lstm_prediction:\n",
        "    if prediction[0]<0.5:\n",
        "        res.append(0)\n",
        "    else:\n",
        "        res.append(1)"
      ],
      "metadata": {
        "execution": {
          "iopub.status.busy": "2022-07-27T15:21:12.896408Z",
          "iopub.execute_input": "2022-07-27T15:21:12.898586Z",
          "iopub.status.idle": "2022-07-27T15:21:12.971547Z",
          "shell.execute_reply.started": "2022-07-27T15:21:12.898547Z",
          "shell.execute_reply": "2022-07-27T15:21:12.970815Z"
        },
        "trusted": true,
        "id": "p3TAfoT2Kvdx"
      },
      "execution_count": null,
      "outputs": []
    },
    {
      "cell_type": "code",
      "source": [
        "print(confusion_matrix(y_test,res))"
      ],
      "metadata": {
        "execution": {
          "iopub.status.busy": "2022-07-27T15:21:12.975077Z",
          "iopub.execute_input": "2022-07-27T15:21:12.977004Z",
          "iopub.status.idle": "2022-07-27T15:21:13.025824Z",
          "shell.execute_reply.started": "2022-07-27T15:21:12.976969Z",
          "shell.execute_reply": "2022-07-27T15:21:13.024506Z"
        },
        "trusted": true,
        "id": "ZR3WsmvuKvdx",
        "outputId": "c2785e78-5941-433b-fa94-b2847526791d"
      },
      "execution_count": null,
      "outputs": [
        {
          "name": "stdout",
          "text": "[[7363 1090]\n [ 282 5452]]\n",
          "output_type": "stream"
        }
      ]
    },
    {
      "cell_type": "code",
      "source": [
        "import pickle\n",
        "with open('tokenizer.pickle', 'wb') as handle:\n",
        "    pickle.dump(tokenizer, handle, protocol=pickle.HIGHEST_PROTOCOL)"
      ],
      "metadata": {
        "execution": {
          "iopub.status.busy": "2022-07-27T15:21:13.029572Z",
          "iopub.execute_input": "2022-07-27T15:21:13.031534Z",
          "iopub.status.idle": "2022-07-27T15:21:13.110561Z",
          "shell.execute_reply.started": "2022-07-27T15:21:13.031497Z",
          "shell.execute_reply": "2022-07-27T15:21:13.109709Z"
        },
        "trusted": true,
        "id": "u_g5pHvPKvdx"
      },
      "execution_count": null,
      "outputs": []
    },
    {
      "cell_type": "code",
      "source": [
        "model.save(\"hate&abusive_model.h5\")"
      ],
      "metadata": {
        "execution": {
          "iopub.status.busy": "2022-07-27T15:21:13.111762Z",
          "iopub.execute_input": "2022-07-27T15:21:13.112110Z",
          "iopub.status.idle": "2022-07-27T15:21:13.217601Z",
          "shell.execute_reply.started": "2022-07-27T15:21:13.112073Z",
          "shell.execute_reply": "2022-07-27T15:21:13.216715Z"
        },
        "trusted": true,
        "id": "VyTUDbZLKvdx"
      },
      "execution_count": null,
      "outputs": []
    },
    {
      "cell_type": "code",
      "source": [
        "import keras"
      ],
      "metadata": {
        "execution": {
          "iopub.status.busy": "2022-07-27T15:21:13.218967Z",
          "iopub.execute_input": "2022-07-27T15:21:13.219479Z",
          "iopub.status.idle": "2022-07-27T15:21:13.223447Z",
          "shell.execute_reply.started": "2022-07-27T15:21:13.219438Z",
          "shell.execute_reply": "2022-07-27T15:21:13.222407Z"
        },
        "trusted": true,
        "id": "MvPuzw--Kvdx"
      },
      "execution_count": null,
      "outputs": []
    },
    {
      "cell_type": "code",
      "source": [
        "load_model=keras.models.load_model(\"./hate&abusive_model.h5\")\n",
        "with open('tokenizer.pickle', 'rb') as handle:\n",
        "    load_tokenizer = pickle.load(handle)"
      ],
      "metadata": {
        "execution": {
          "iopub.status.busy": "2022-07-27T15:21:13.224686Z",
          "iopub.execute_input": "2022-07-27T15:21:13.225237Z",
          "iopub.status.idle": "2022-07-27T15:21:13.515886Z",
          "shell.execute_reply.started": "2022-07-27T15:21:13.225184Z",
          "shell.execute_reply": "2022-07-27T15:21:13.515073Z"
        },
        "trusted": true,
        "id": "sfJBQTVlKvdx"
      },
      "execution_count": null,
      "outputs": []
    },
    {
      "cell_type": "code",
      "source": [
        "import re\n",
        "test = 'I hate my country'\n",
        "def clean_text(text):\n",
        "    print(text)\n",
        "    text = str(text).lower()\n",
        "    text = re.sub('\\[.*?\\]', '', text)\n",
        "    text = re.sub('https?://\\S+|www\\.\\S+', '', text)\n",
        "    text = re.sub('<.*?>+', '', text)\n",
        "    text = re.sub('[%s]' % re.escape(string.punctuation), '', text)\n",
        "    text = re.sub('\\n', '', text)\n",
        "    text = re.sub('\\w*\\d\\w*', '', text)\n",
        "    print(text)\n",
        "    text = [word for word in text.split(' ') if word not in stopword]\n",
        "    text=\" \".join(text)\n",
        "    text = [stemmer.stem(word) for word in text.split(' ')]\n",
        "    text=\" \".join(text)\n",
        "    return text\n",
        "test=[clean_text(test)]\n",
        "print(test)\n",
        "seq = load_tokenizer.texts_to_sequences(test)\n",
        "padded = sequence.pad_sequences(seq, maxlen=300)\n",
        "print(seq)\n",
        "pred = model.predict(padded)\n",
        "print(\"pred\", pred)\n",
        "if pred<0.5:\n",
        "    print(\"no hate\")\n",
        "else:\n",
        "    print(\"hate and abusive\")"
      ],
      "metadata": {
        "execution": {
          "iopub.status.busy": "2022-07-27T15:21:13.517319Z",
          "iopub.execute_input": "2022-07-27T15:21:13.517654Z",
          "iopub.status.idle": "2022-07-27T15:21:13.644345Z",
          "shell.execute_reply.started": "2022-07-27T15:21:13.517618Z",
          "shell.execute_reply": "2022-07-27T15:21:13.643517Z"
        },
        "trusted": true,
        "id": "jWE8PQm8Kvdy",
        "outputId": "13208fb6-7532-4f21-8b7e-d9d8a4168134"
      },
      "execution_count": null,
      "outputs": [
        {
          "name": "stdout",
          "text": "I hate my country\ni hate my country\n['hate countri']\n[[61, 408]]\npred [[0.88266116]]\nhate and abusive\n",
          "output_type": "stream"
        }
      ]
    }
  ]
}